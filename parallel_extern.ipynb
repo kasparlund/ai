{
 "cells": [
  {
   "cell_type": "code",
   "execution_count": null,
   "id": "d32dc54e",
   "metadata": {},
   "outputs": [],
   "source": [
    "#default_exp finance.train_extern_functions"
   ]
  },
  {
   "cell_type": "code",
   "execution_count": null,
   "id": "e0848d1a",
   "metadata": {},
   "outputs": [],
   "source": [
    "# export\n",
    "import torch.multiprocessing as mp\n",
    "from torch.nn import Module\n",
    "def ex_forward(model,queue):\n",
    "#def ex_forward(queue):\n",
    "    #t = queue.get()*2\n",
    "    #queue.put(t)\n",
    "    #queue.put(\"hello world\")\n",
    "    #queue.put(f\"hello world:\\n{model(queue.get())}\")\n",
    "    queue.put(f\"hello world:\\n{queue.get()}\")\n",
    "    #queue.put( 2+queue.get() )\n"
   ]
  },
  {
   "cell_type": "code",
   "execution_count": null,
   "id": "bab6527a",
   "metadata": {},
   "outputs": [
    {
     "name": "stdout",
     "output_type": "stream",
     "text": [
      "Converted 00_test.ipynb.\n",
      "Converted 01_data.external.ipynb.\n",
      "Converted 02_lists.ipynb.\n",
      "Converted 03_images.ipynb.\n",
      "Converted 05_Learner.ipynb.\n",
      "Converted 05_model.ipynb.\n",
      "Converted 06_modelmanger.ipynb.\n",
      "Converted 07_optimizers.ipynb.\n",
      "Converted app_image_01_mnist_optimizers.ipynb.\n",
      "Converted app_image_02_imagenette_optimizers.ipynb.\n",
      "Converted fin_01_candlestick.ipynb.\n",
      "Converted fin_02_simfin_data.ipynb.\n",
      "Converted fin_02_simfin_generated_data.ipynb.\n",
      "Converted fin_02_simfin_training.ipynb.\n",
      "Converted fin_03_graphs.ipynb.\n",
      "Converted index.ipynb.\n",
      "Converted parallel.ipynb.\n",
      "Converted parallel_extern.ipynb.\n"
     ]
    }
   ],
   "source": [
    "#hide\n",
    "from nbdev.export import notebook2script\n",
    "notebook2script()"
   ]
  },
  {
   "cell_type": "code",
   "execution_count": null,
   "id": "0fdfe626",
   "metadata": {},
   "outputs": [],
   "source": []
  }
 ],
 "metadata": {
  "kernelspec": {
   "display_name": "Python 3",
   "language": "python",
   "name": "python3"
  }
 },
 "nbformat": 4,
 "nbformat_minor": 5
}
