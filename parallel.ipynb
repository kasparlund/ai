{
 "cells": [
  {
   "cell_type": "code",
   "execution_count": null,
   "id": "c1fec79f",
   "metadata": {},
   "outputs": [],
   "source": [
    "%%time\n",
    "import torch\n",
    "import torch.multiprocessing as mp\n",
    "at = [ torch.zeros(10) for i in range(5) ]\n",
    "#print(at)\n",
    "\n",
    "def forward(a):\n",
    "    print(a)\n",
    "    #q.get()#1+1\n",
    "    #q.put( q.get()+2 )\n",
    "\n",
    "# NOTE: this is required for the ``fork`` method to work\n",
    "if __name__ == '__main__':\n",
    "    processes = []\n",
    "    queues = []\n",
    "    #x = torch.zeros_like(a[0])\n",
    "    #x.share_memory()\n",
    "    for a in at:\n",
    "        q = mp.Queue(a)\n",
    "        p = mp.Process(target=forward, args=(q))\n",
    "        p.start()\n",
    "        processes.append(p)\n",
    "    for p in processes:\n",
    "        p.join()\n",
    "    #print(args)\n",
    "    #print(x)\n",
    "    #for q in queues:\n",
    "    #   print(q.get())"
   ]
  },
  {
   "cell_type": "code",
   "execution_count": null,
   "id": "8744ce2f",
   "metadata": {},
   "outputs": [],
   "source": [
    "import multiprocessing as mp\n",
    "import torch\n",
    "\n",
    "done = mp.Event()\n",
    "\n",
    "def extractor_worker(done_queue):\n",
    "    done_queue.put(torch.Tensor(10,10))\n",
    "    done_queue.put(None)\n",
    "    done.wait()\n",
    "\n",
    "producers = []\n",
    "done_queue = mp.Queue()\n",
    "for i in range(0, 1):\n",
    "    process = mp.Process(target=extractor_worker,\n",
    "                         args=(done_queue,))\n",
    "    process.start()\n",
    "    producers.append(process)\n",
    "\n",
    "    for p in producers:\n",
    "        p.join()\n"
   ]
  },
  {
   "cell_type": "code",
   "execution_count": null,
   "id": "c6166cf7",
   "metadata": {},
   "outputs": [],
   "source": [
    "import numpy as np\n",
    "import torch\n",
    "import torch.multiprocessing as mp\n",
    "\n",
    "torch.set_grad_enabled(False)\n",
    "\n",
    "def target(inputs, outputs):\n",
    "    x = inputs.get()\n",
    "    outputs.put(x)\n",
    "    outputs.join()\n",
    "\n",
    "inputs = mp.Queue(1)\n",
    "outputs = mp.JoinableQueue(1)\n",
    "\n",
    "value = torch.tensor([1., 2.])\n",
    "\n",
    "inputs.put(value)\n",
    "proc = mp.Process(target=target, args=(inputs, outputs))\n",
    "proc.start()\n",
    "x = outputs.get()\n",
    "outputs.task_done()\n",
    "proc.join()\n",
    "print(x)\n"
   ]
  },
  {
   "cell_type": "code",
   "execution_count": null,
   "id": "07834677",
   "metadata": {},
   "outputs": [],
   "source": [
    "import torch\n",
    "x = torch.Tensor(3,3)\n",
    "x"
   ]
  },
  {
   "cell_type": "code",
   "execution_count": null,
   "id": "9cd2cec4",
   "metadata": {},
   "outputs": [
    {
     "name": "stdout",
     "output_type": "stream",
     "text": [
      "True\n",
      "False\n"
     ]
    },
    {
     "data": {
      "text/plain": [
       "(array([8.00000e+00, 1.20000e+01, 1.00700e+03, 2.63000e+04, 2.88275e+05,\n",
       "        7.03146e+05, 2.88260e+04, 9.81000e+02, 1.60000e+01, 5.00000e+00]),\n",
       " array([-4.7683716e-07, -3.8146973e-07, -2.8610231e-07, -1.9073487e-07,\n",
       "        -9.5367433e-08,  0.0000000e+00,  9.5367433e-08,  1.9073487e-07,\n",
       "         2.8610231e-07,  3.8146973e-07,  4.7683716e-07], dtype=float32),\n",
       " <BarContainer object of 10 artists>)"
      ]
     },
     "execution_count": null,
     "metadata": {},
     "output_type": "execute_result"
    },
    {
     "data": {
      "image/png": "[encoded data removed]",
      "text/plain": [
       "<Figure size 432x288 with 1 Axes>"
      ]
     },
     "metadata": {
      "needs_background": "light"
     },
     "output_type": "display_data"
    }
   ],
   "source": [
    "import torch\n",
    "import torch.nn as nn\n",
    "import timeit, matplotlib.pyplot as plt\n",
    "\n",
    "\n",
    "def count_params(model):\n",
    "    \"\"\"Count the number of parameters in a module.\"\"\"\n",
    "    return sum([p.numel() for p in model.parameters()])\n",
    "\n",
    "\n",
    "def compare_params(linear, conv1d):\n",
    "    \"\"\"Compare whether two modules have identical parameters.\"\"\"\n",
    "    return (linear.weight.detach().numpy() == conv1d.weight.detach().numpy().squeeze()).all() and \\\n",
    "           (linear.bias.detach().numpy() == conv1d.bias.detach().numpy()).all()\n",
    "\n",
    "\n",
    "def compare_tensors(out_linear, out_conv1d):\n",
    "    \"\"\"Compare whether two tensors are identical.\"\"\"\n",
    "    return (out_linear.detach().numpy() == out_conv1d.permute(0, 2, 1).detach().numpy()).all()\n",
    "conv1d, linear = nn.Conv1d(8, 32, 1), nn.Linear(8, 32)\n",
    "\n",
    "# same input tensor\n",
    "tensor = torch.randn(128, 256, 8)\n",
    "permuted_tensor = tensor.permute(0, 2, 1).clone().contiguous()\n",
    "\n",
    "# same weights and bias\n",
    "linear.weight = nn.Parameter(conv1d.weight.squeeze(2))\n",
    "linear.bias = nn.Parameter(conv1d.bias)\n",
    "print(compare_params(linear, conv1d))  # True\n",
    "\n",
    "# check on the forward tensor\n",
    "out_linear = linear(tensor)  # torch.Size([128, 256, 32])\n",
    "out_conv1d = conv1d(permuted_tensor)  # torch.Size([128, 32, 256])\n",
    "print(compare_tensors(out_linear, out_conv1d))  # False\n",
    "plt.hist((out_linear.detach().numpy() - out_conv1d.permute(0, 2, 1).detach().numpy()).ravel())"
   ]
  },
  {
   "cell_type": "code",
   "execution_count": null,
   "id": "0f6a15a9",
   "metadata": {},
   "outputs": [
    {
     "data": {
      "text/plain": [
       "(array([ 136.,  437.,  773., 1146., 1487., 1721., 1146.,  773.,  437.,\n",
       "         136.]),\n",
       " array([-4.4280082e-02, -3.5424065e-02, -2.6568051e-02, -1.7712034e-02,\n",
       "        -8.8560190e-03, -3.7252903e-09,  8.8560116e-03,  1.7712027e-02,\n",
       "         2.6568044e-02,  3.5424057e-02,  4.4280075e-02], dtype=float32),\n",
       " <BarContainer object of 10 artists>)"
      ]
     },
     "execution_count": null,
     "metadata": {},
     "output_type": "execute_result"
    },
    {
     "data": {
      "image/png": "[encoded data removed]",
      "text/plain": [
       "<Figure size 432x288 with 1 Axes>"
      ]
     },
     "metadata": {
      "needs_background": "light"
     },
     "output_type": "display_data"
    }
   ],
   "source": [
    "target = torch.randn(out_linear.shape)\n",
    "permuted_target = target.permute(0, 2, 1).clone().contiguous()\n",
    "\n",
    "loss_linear = nn.MSELoss()(target, out_linear)\n",
    "loss_linear.backward()\n",
    "loss_conv1d = nn.MSELoss()(permuted_target, out_conv1d)\n",
    "loss_conv1d.backward()\n",
    "\n",
    "plt.hist((linear.weight.grad.detach().numpy() - \n",
    "    conv1d.weight.grad.permute(0, 2, 1).detach().numpy()).ravel())"
   ]
  },
  {
   "cell_type": "code",
   "execution_count": null,
   "id": "5b855785",
   "metadata": {},
   "outputs": [
    {
     "name": "stdout",
     "output_type": "stream",
     "text": [
      "4.132530886999973\n",
      "10.607492321999985\n"
     ]
    }
   ],
   "source": [
    "# test execution speed on CPUs\n",
    "print(timeit.timeit(\"_ = linear(tensor)\", number=10000, setup=\"from __main__ import tensor, linear\"))\n",
    "print(timeit.timeit(\"_ = conv1d(permuted_tensor)\", number=10000, setup=\"from __main__ import conv1d, permuted_tensor\"))\n",
    "\n",
    "# change everything in *.cuda(), then test speed on GPUs\n"
   ]
  },
  {
   "cell_type": "code",
   "execution_count": null,
   "id": "1fd69b2a",
   "metadata": {},
   "outputs": [
    {
     "data": {
      "text/plain": [
       "(torch.Size([128, 256, 8]), torch.Size([128, 8, 256]))"
      ]
     },
     "execution_count": null,
     "metadata": {},
     "output_type": "execute_result"
    }
   ],
   "source": [
    "tensor.shape,permuted_tensor.shape"
   ]
  },
  {
   "cell_type": "code",
   "execution_count": null,
   "id": "0eb12caa",
   "metadata": {},
   "outputs": [],
   "source": []
  }
 ],
 "metadata": {
  "kernelspec": {
   "display_name": "Python 3",
   "language": "python",
   "name": "python3"
  }
 },
 "nbformat": 4,
 "nbformat_minor": 5
}
