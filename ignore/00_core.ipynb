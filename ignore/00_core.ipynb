{
 "cells": [
  {
   "cell_type": "code",
   "execution_count": null,
   "metadata": {},
   "outputs": [],
   "source": [
    "#default_exp core"
   ]
  },
  {
   "cell_type": "code",
   "execution_count": null,
   "metadata": {},
   "outputs": [],
   "source": [
    "#hide\n",
    "from nbdev.showdoc import *"
   ]
  },
  {
   "cell_type": "code",
   "execution_count": null,
   "metadata": {},
   "outputs": [],
   "source": [
    "%load_ext autoreload\n",
    "%autoreload 2"
   ]
  },
  {
   "cell_type": "raw",
   "metadata": {},
   "source": [
    "#export\n",
    "\n",
    "import sys,os,re,typing,itertools,operator,functools,math,warnings,functools,io,enum, array\n",
    "\n",
    "from operator import itemgetter,attrgetter\n",
    "from warnings import warn\n",
    "from typing import Iterable,Generator,Sequence,Iterator\n",
    "from functools import partial,reduce\n",
    "from pathlib import Path\n",
    "\n",
    "try:\n",
    "    from types import WrapperDescriptorType,MethodWrapperType,MethodDescriptorType\n",
    "except ImportError:\n",
    "    WrapperDescriptorType = type(object.__init__)\n",
    "    MethodWrapperType = type(object().__str__)\n",
    "    MethodDescriptorType = type(str.join)\n",
    "from types import BuiltinFunctionType,BuiltinMethodType,MethodType,FunctionType,SimpleNamespace\n",
    "\n",
    "NoneType = type(None)\n",
    "string_classes = (str,bytes)\n",
    "\n",
    "def is_iter(o):\n",
    "    \"Test whether `o` can be used in a `for` loop\"\n",
    "    #Rank 0 tensors in PyTorch are not really iterable\n",
    "    return isinstance(o, (Iterable,Generator)) and getattr(o,'ndim',1)\n",
    "\n",
    "def is_coll(o):\n",
    "    \"Test whether `o` is a collection (i.e. has a usable `len`)\"\n",
    "    #Rank 0 tensors in PyTorch do not have working `len`\n",
    "    return hasattr(o, '__len__') and getattr(o,'ndim',1)\n",
    "\n",
    "def all_equal(a,b):\n",
    "    \"Compares whether `a` and `b` are the same length and have the same contents\"\n",
    "    if not is_iter(b): return False\n",
    "    return all(equals(a_,b_) for a_,b_ in itertools.zip_longest(a,b))\n",
    "\n",
    "def noop (x=None, *args, **kwargs):\n",
    "    \"Do nothing\"\n",
    "    return x\n",
    "\n",
    "def noops(self, x=None, *args, **kwargs):\n",
    "    \"Do nothing (method)\"\n",
    "    return x\n",
    "\n",
    "def any_is_instance(t, *args): return any(isinstance(a,t) for a in args)\n",
    "\n",
    "def isinstance_str(x, cls_name):\n",
    "    \"Like `isinstance`, except takes a type name instead of a type\"\n",
    "    return cls_name in [t.__name__ for t in type(x).__mro__]\n",
    "\n",
    "def array_equal(a,b):\n",
    "    if hasattr(a, '__array__'): a = a.__array__()\n",
    "    if hasattr(b, '__array__'): b = b.__array__()\n",
    "    return (a==b).all()\n",
    "\n",
    "def df_equal(a,b): return a.equals(b) if isinstance_str(a, 'NDFrame') else b.equals(a)\n",
    "\n",
    "def equals(a,b):\n",
    "    \"Compares `a` and `b` for equality; supports sublists, tensors and arrays too\"\n",
    "    if (a is None) ^ (b is None): return False\n",
    "    if any_is_instance(type,a,b): return a==b\n",
    "    if hasattr(a, '__array_eq__'): return a.__array_eq__(b)\n",
    "    if hasattr(b, '__array_eq__'): return b.__array_eq__(a)\n",
    "    cmp = (array_equal   if isinstance_str(a, 'ndarray') or isinstance_str(b, 'ndarray') else\n",
    "           array_equal   if isinstance_str(a, 'Tensor')  or isinstance_str(b, 'Tensor') else\n",
    "           df_equal      if isinstance_str(a, 'NDFrame') or isinstance_str(b, 'NDFrame') else\n",
    "           operator.eq   if any_is_instance((str,dict,set), a, b) else\n",
    "           all_equal     if is_iter(a) or is_iter(b) else\n",
    "           operator.eq)\n",
    "    return cmp(a,b)\n",
    "\n",
    "def ipython_shell():\n",
    "    \"Same as `get_ipython` but returns `False` if not in IPython\"\n",
    "    try: return get_ipython()\n",
    "    except NameError: return False\n",
    "\n",
    "def in_ipython():\n",
    "    \"Check if code is running in some kind of IPython environment\"\n",
    "    return bool(ipython_shell())\n",
    "\n",
    "def in_colab():\n",
    "    \"Check if the code is running in Google Colaboratory\"\n",
    "    return 'google.colab' in sys.modules\n",
    "\n",
    "def in_jupyter():\n",
    "    \"Check if the code is running in a jupyter notebook\"\n",
    "    if not in_ipython(): return False\n",
    "    return ipython_shell().__class__.__name__ == 'ZMQInteractiveShell'\n",
    "\n",
    "def in_notebook():\n",
    "    \"Check if the code is running in a jupyter notebook\"\n",
    "    return in_colab() or in_jupyter()\n",
    "\n",
    "IN_IPYTHON,IN_JUPYTER,IN_COLAB,IN_NOTEBOOK = in_ipython(),in_jupyter(),in_colab(),in_notebook()\n",
    "\n",
    "def remove_prefix(text, prefix):\n",
    "    \"Temporary until py39 is a prereq\"\n",
    "    return text[text.startswith(prefix) and len(prefix):]\n",
    "\n",
    "def remove_suffix(text, suffix):\n",
    "    \"Temporary until py39 is a prereq\"\n",
    "    return text[:-len(suffix)] if text.endswith(suffix) else text\n"
   ]
  },
  {
   "cell_type": "markdown",
   "metadata": {},
   "source": [
    "## Export -"
   ]
  },
  {
   "cell_type": "code",
   "execution_count": null,
   "metadata": {},
   "outputs": [
    {
     "name": "stdout",
     "output_type": "stream",
     "text": [
      "Converted 00_core.ipynb.\n",
      "Converted 00_test.ipynb.\n",
      "Converted 01_data.external.ipynb.\n",
      "Converted 02_lists.ipynb.\n",
      "Converted 03_images.ipynb.\n",
      "Converted 04_databunchs_undone.ipynb.\n",
      "Converted 05_Learner.ipynb.\n",
      "Converted 05_model.ipynb.\n",
      "Converted 06_modelmanger.ipynb.\n",
      "Converted 07_optimizers.ipynb.\n",
      "Converted app_image_01_mnist_optimizers.ipynb.\n",
      "Converted augmentation_cpu.ipynb.\n",
      "Converted data_block.ipynb.\n",
      "Converted imagenette_optimizers.ipynb.\n",
      "Converted index.ipynb.\n",
      "Converted mnist_experiments.ipynb.\n",
      "Converted mnist_initi_batchnorm.ipynb.\n",
      "Converted transfer_learning.ipynb.\n"
     ]
    }
   ],
   "source": [
    "#hide\n",
    "from nbdev.export import notebook2script\n",
    "notebook2script()"
   ]
  },
  {
   "cell_type": "code",
   "execution_count": null,
   "metadata": {},
   "outputs": [],
   "source": []
  }
 ],
 "metadata": {
  "kernelspec": {
   "display_name": "Python 3",
   "language": "python",
   "name": "python3"
  }
 },
 "nbformat": 4,
 "nbformat_minor": 2
}
