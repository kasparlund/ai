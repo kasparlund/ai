{
 "cells": [
  {
   "cell_type": "markdown",
   "id": "c52aff0a",
   "metadata": {},
   "source": [
    "# TODO fase 1\n",
    " - use hooks to verify that the weights has a sufficeint variance\n",
    " - calculate candlestick using pca\n",
    " - calculate predictions for a stock fx apple\n",
    " - statistics for the predictions: distribution of errors, percentage prediction with the right direction:  close>open, open<close\n",
    " - visualize ohlc as bands and on stock curve\n",
    "\n",
    " - tjek quantile objective function\n",
    " - objectiv function that weigh open and closing prices higher\n",
    "\n",
    " - add day of week to training data\n",
    "                                                                                                                 \n",
    "                                                                                                                 \n",
    "# TODO fase 2\n",
    " - language modelling\n",
    "                                                                                                                                                                                                                                    \n",
    "# DONE\n",
    " - augmentation of training data by mixing stock prices\n",
    " - split in train, test so that test data are taken from time periodens after the training data and possibly from stocks that have not been used for training \n",
    "                \n",
    "                                                                                                                                   "
   ]
  },
  {
   "cell_type": "markdown",
   "id": "5745b4d8",
   "metadata": {},
   "source": [
    "# DONE \n",
    " - speed up training: improve the pandas part by 30 to 60 times\n"
   ]
  },
  {
   "cell_type": "code",
   "execution_count": null,
   "id": "40c3733f",
   "metadata": {},
   "outputs": [],
   "source": [
    "#default_exp finance.train"
   ]
  },
  {
   "cell_type": "code",
   "execution_count": null,
   "id": "ef3cd767",
   "metadata": {},
   "outputs": [],
   "source": [
    "%load_ext autoreload\n",
    "%autoreload 2\n",
    "%matplotlib inline"
   ]
  },
  {
   "cell_type": "raw",
   "id": "55bdddce",
   "metadata": {},
   "source": [
    "#add the parent directiry so thatwecan access modules the and inits subdirectories\n",
    "import sys, os, inspect\n",
    "currentdir = os.path.dirname(os.path.abspath(inspect.getfile(inspect.currentframe())))\n",
    "parentdir  = os.path.dirname(currentdir)\n",
    "sys.path.insert(0, parentdir)"
   ]
  },
  {
   "cell_type": "code",
   "execution_count": null,
   "id": "9ec212ed",
   "metadata": {},
   "outputs": [],
   "source": [
    "# export\n",
    "from lib.data.lists import *\n",
    "from lib.finance.data import *\n",
    "from pathlib import Path\n",
    "\n",
    "import pandas as pd\n",
    "import numpy as np\n",
    "\n",
    "#import matplotlib.pyplot as plt\n",
    "\n",
    "# Import the main functionality from the SimFin Python API.\n",
    "import simfin as sf\n",
    "\n",
    "# Import names used for easy access to SimFin's data-columns.\n",
    "from simfin.names import *"
   ]
  },
  {
   "cell_type": "code",
   "execution_count": null,
   "id": "c78d1707",
   "metadata": {},
   "outputs": [
    {
     "data": {
      "text/plain": [
       "'0.8.1'"
      ]
     },
     "execution_count": null,
     "metadata": {},
     "output_type": "execute_result"
    }
   ],
   "source": [
    "# Version of the SimFin Python API.\n",
    "sf.__version__"
   ]
  },
  {
   "cell_type": "markdown",
   "id": "6bfcc27b",
   "metadata": {},
   "source": [
    "# Network architecture"
   ]
  },
  {
   "cell_type": "raw",
   "id": "815453fd",
   "metadata": {},
   "source": [
    "import torch\n",
    "import torch.nn as nn\n",
    "import torch.nn.functional as F\n",
    "data = torch.tensor([[1.,2],[3.,4]])\n",
    "data = data.unsqueeze(dim=1)#.unsqueeze(dim=0)\n",
    "print(data.shape)\n",
    "\n",
    "seq_length=2\n",
    "embedding_width=30\n",
    "nb_stems = 4\n",
    "m = nn.Sequential(\n",
    "     nn.Linear(seq_length,embedding_width*nb_stems)\n",
    "     #\n",
    ")\n",
    "#m = nn.AvgPool1d(3, stride=3)\n",
    "data=m(data)\n",
    "print(f\"after nn.linear: {data.shape}\")\n",
    "m = nn.AvgPool1d(kernel_size=nb_stems)\n",
    "data = m(data)\n",
    "print(f\"after nn.AvgPool1d: {data.shape}\")\n",
    "m = nn.BatchNorm1d(1)\n",
    "data = m(data)\n",
    "print(f\"after nn.BatchNorm1d {data.shape}\")"
   ]
  },
  {
   "cell_type": "code",
   "execution_count": null,
   "id": "3479a6e7",
   "metadata": {},
   "outputs": [],
   "source": [
    "import torch\n",
    "import torch.nn as nn\n",
    "import torch.nn.functional as F\n",
    "from functools import partial\n",
    "from lib.model.model import *\n",
    "from functools import reduce\n",
    "\n",
    "#import torch.multiprocessing as mp\n",
    "import multiprocess as mp\n",
    "\n",
    "#torch.nn.Tanh(), torch.nn.ReLU(inplace=False), #     torch.nn.Tanh(), #nn.LeakyReLU(inplace=True), #\n",
    "\n",
    "class Block(nn.Sequential):\n",
    "    def __init__(self, res_in_dim, res_n_width, activ_func=torch.nn.Tanh(), dropout_ratio=0.0):\n",
    "        super().__init__(\n",
    "                            torch.nn.BatchNorm1d(1),\n",
    "                            nn.Dropout(p=dropout_ratio, inplace=False),\n",
    "                            activ_func,\n",
    "                            nn.Linear(res_in_dim, res_in_dim*res_n_width),\n",
    "                          \n",
    "                            torch.nn.BatchNorm1d(1),\n",
    "                            nn.Dropout(p=dropout_ratio, inplace=False),\n",
    "                            activ_func,\n",
    "                            #nn.AvgPool1d(kernel_size=nb_reswidth_multiple),\n",
    "                            nn.Linear(res_in_dim*res_n_width, res_in_dim),\n",
    "                            )\n",
    "        \n",
    "class DenseResBlock(nn.Module):\n",
    "    def __init__(self, res_in_dim, res_n_width, activ_func=torch.nn.Tanh(), dropout_ratio=0.0):\n",
    "        super().__init__()\n",
    "        self.block_1 = Block(res_in_dim, res_n_width, activ_func, dropout_ratio)\n",
    "    def forward(self,x):\n",
    "        #print(f\"1 ResBlock forward x.shape:{x.shape}\")\n",
    "        x_out = self.block_1(x)\n",
    "        #print(f\"2 ResBlock forward x_out.shape:{x_out.shape}\") \n",
    "        x3 = x+x_out\n",
    "        #print(f\"2 ResBlock forward x3.shape:{x3.shape}\") \n",
    "        return x3\n",
    "\n",
    "class DenseResNetModel(nn.Module):\n",
    "    def __init__(self, L0_in_dim, L0_out_dim, L0_n_out_dim, nb_res, \n",
    "                       res_in_dim, res_n_width, \n",
    "                       fadeout_n_dim, \n",
    "                       activ_func=torch.nn.Tanh(), dropout_ratio=0.0 ):\n",
    "        super().__init__()\n",
    "        self.stem = nn.Sequential(\n",
    "                        nn.Linear(L0_in_dim,L0_out_dim*L0_n_out_dim),\n",
    "                        torch.nn.BatchNorm1d(1),\n",
    "                        nn.Dropout(p=dropout_ratio, inplace=False),\n",
    "                        activ_func, \n",
    "                        nn.AvgPool1d(kernel_size=L0_n_out_dim),\n",
    "            \n",
    "                        nn.Linear(L0_out_dim,res_in_dim)\n",
    "    \n",
    "                        #torch.nn.BatchNorm1d(1),\n",
    "                        #nn.Dropout(p=dropout_ratio, inplace=False),\n",
    "                        #activ_func, \n",
    "                        #nn.Linear(embedding_width,res_in_dim)\n",
    "            )\n",
    "                        \n",
    "        blocks = [DenseResBlock(res_in_dim, res_n_width, activ_func, dropout_ratio) \n",
    "                  for i in np.arange(nb_res)]\n",
    "        self.resblocks = nn.Sequential(*blocks)\n",
    "\n",
    "        \n",
    "        self.fadeout = nn.Sequential(\n",
    "            nn.Linear(res_in_dim,res_in_dim*fadeout_n_dim),\n",
    "            torch.nn.BatchNorm1d(1),\n",
    "            activ_func,\n",
    "    \n",
    "            nn.Linear(res_in_dim*fadeout_n_dim,1),\n",
    "            nn.Flatten()\n",
    "            )\n",
    "\n",
    "    # fast and consumes less memeory comparede to the reduce and comprehension version\n",
    "    def forward(self,x):\n",
    "        #print(f\"1 DenseResNetModel forward x.shape:{x.shape}\")\n",
    "        x_stem = self.stem.forward(x)\n",
    "        #print(f\"2 DenseResNetModel forward x_stem.shape:{x_stem.shape}\")\n",
    "        x_resblocks = self.resblocks(x_stem)\n",
    "        #print(f\"3 DenseResNetModel forward x_stem.shape:{x_stem.shape}\")\n",
    "        x_fadeout   = self.fadeout(x_resblocks)\n",
    "        #print(f\"4 DenseResNetModel forward x_fadeout.shape:{x_fadeout.shape}\")\n",
    "        return x_fadeout      \n",
    "    \n"
   ]
  },
  {
   "cell_type": "markdown",
   "id": "518f76e5",
   "metadata": {},
   "source": [
    "# Load data\n"
   ]
  },
  {
   "cell_type": "code",
   "execution_count": null,
   "id": "3d438cf3",
   "metadata": {},
   "outputs": [
    {
     "name": "stdout",
     "output_type": "stream",
     "text": [
      "dataPath:/Users/kasparlund/simfin_data exists:True\n",
      "Dataset \"us-shareprices-daily\" on disk (1 days old).\n",
      "- Loading from disk ... Done!\n",
      "number of stocks:         2618\n",
      "number of valid stocks:   1626\n",
      "number of invalid stocks: 992\n",
      "smallest pricelines pr stock: Ticker\n",
      "NLN      1\n",
      "LMND     2\n",
      "DNB      3\n",
      "ACI      6\n",
      "OPEN    12\n",
      "dtype: int64\n",
      "longest pricelines pr stock:  Ticker\n",
      "HTLD     3400\n",
      "HTH      3400\n",
      "IBM      3400\n",
      "KEY      3400\n",
      "FCAUS    3425\n",
      "dtype: int64\n",
      "CPU times: user 1min 18s, sys: 4.31 s, total: 1min 23s\n",
      "Wall time: 1min 23s\n"
     ]
    }
   ],
   "source": [
    "%%time\n",
    "df_prices = loadShareprices()\n",
    "df_prices, stocks, validStocks, inValidStocks = procesSharePrices(df_prices)"
   ]
  },
  {
   "cell_type": "code",
   "execution_count": null,
   "id": "bd208725",
   "metadata": {},
   "outputs": [
    {
     "data": {
      "text/html": [
       "<div>\n",
       "<style scoped>\n",
       "    .dataframe tbody tr th:only-of-type {\n",
       "        vertical-align: middle;\n",
       "    }\n",
       "\n",
       "    .dataframe tbody tr th {\n",
       "        vertical-align: top;\n",
       "    }\n",
       "\n",
       "    .dataframe thead th {\n",
       "        text-align: right;\n",
       "    }\n",
       "</style>\n",
       "<table border=\"1\" class=\"dataframe\">\n",
       "  <thead>\n",
       "    <tr style=\"text-align: right;\">\n",
       "      <th></th>\n",
       "      <th>previous_close</th>\n",
       "      <th>Open</th>\n",
       "      <th>High</th>\n",
       "      <th>Low</th>\n",
       "      <th>Close</th>\n",
       "    </tr>\n",
       "  </thead>\n",
       "  <tbody>\n",
       "    <tr>\n",
       "      <th>count</th>\n",
       "      <td>4.381883e+06</td>\n",
       "      <td>4.381883e+06</td>\n",
       "      <td>4.381883e+06</td>\n",
       "      <td>4.381883e+06</td>\n",
       "      <td>4.381883e+06</td>\n",
       "    </tr>\n",
       "    <tr>\n",
       "      <th>mean</th>\n",
       "      <td>3.467543e+00</td>\n",
       "      <td>1.129824e-04</td>\n",
       "      <td>1.484703e-02</td>\n",
       "      <td>-1.531470e-02</td>\n",
       "      <td>1.773332e-04</td>\n",
       "    </tr>\n",
       "    <tr>\n",
       "      <th>std</th>\n",
       "      <td>9.839195e-01</td>\n",
       "      <td>1.401605e-02</td>\n",
       "      <td>2.168032e-02</td>\n",
       "      <td>2.302438e-02</td>\n",
       "      <td>2.629342e-02</td>\n",
       "    </tr>\n",
       "    <tr>\n",
       "      <th>min</th>\n",
       "      <td>-3.912023e+00</td>\n",
       "      <td>-4.829644e-01</td>\n",
       "      <td>-4.327939e-01</td>\n",
       "      <td>-4.995624e-01</td>\n",
       "      <td>-4.867261e-01</td>\n",
       "    </tr>\n",
       "    <tr>\n",
       "      <th>0.1%</th>\n",
       "      <td>9.531018e-02</td>\n",
       "      <td>-1.129393e-01</td>\n",
       "      <td>-7.089721e-02</td>\n",
       "      <td>-2.171754e-01</td>\n",
       "      <td>-1.732420e-01</td>\n",
       "    </tr>\n",
       "    <tr>\n",
       "      <th>1%</th>\n",
       "      <td>1.071584e+00</td>\n",
       "      <td>-4.015526e-02</td>\n",
       "      <td>-1.898795e-02</td>\n",
       "      <td>-1.016918e-01</td>\n",
       "      <td>-7.626433e-02</td>\n",
       "    </tr>\n",
       "    <tr>\n",
       "      <th>25%</th>\n",
       "      <td>2.888704e+00</td>\n",
       "      <td>-3.805386e-03</td>\n",
       "      <td>3.733247e-03</td>\n",
       "      <td>-2.104773e-02</td>\n",
       "      <td>-9.978700e-03</td>\n",
       "    </tr>\n",
       "    <tr>\n",
       "      <th>50%</th>\n",
       "      <td>3.489513e+00</td>\n",
       "      <td>0.000000e+00</td>\n",
       "      <td>1.027246e-02</td>\n",
       "      <td>-1.016560e-02</td>\n",
       "      <td>2.618829e-04</td>\n",
       "    </tr>\n",
       "    <tr>\n",
       "      <th>75%</th>\n",
       "      <td>4.049173e+00</td>\n",
       "      <td>4.390786e-03</td>\n",
       "      <td>2.038105e-02</td>\n",
       "      <td>-3.316753e-03</td>\n",
       "      <td>1.072309e-02</td>\n",
       "    </tr>\n",
       "    <tr>\n",
       "      <th>99%</th>\n",
       "      <td>5.858824e+00</td>\n",
       "      <td>3.846628e-02</td>\n",
       "      <td>9.619240e-02</td>\n",
       "      <td>1.830969e-02</td>\n",
       "      <td>7.492761e-02</td>\n",
       "    </tr>\n",
       "    <tr>\n",
       "      <th>99.9%</th>\n",
       "      <td>8.202482e+00</td>\n",
       "      <td>9.831371e-02</td>\n",
       "      <td>1.952400e-01</td>\n",
       "      <td>6.334315e-02</td>\n",
       "      <td>1.608683e-01</td>\n",
       "    </tr>\n",
       "    <tr>\n",
       "      <th>max</th>\n",
       "      <td>1.275121e+01</td>\n",
       "      <td>4.894546e-01</td>\n",
       "      <td>4.985555e-01</td>\n",
       "      <td>4.795731e-01</td>\n",
       "      <td>4.818492e-01</td>\n",
       "    </tr>\n",
       "  </tbody>\n",
       "</table>\n",
       "</div>"
      ],
      "text/plain": [
       "       previous_close          Open          High           Low         Close\n",
       "count    4.381883e+06  4.381883e+06  4.381883e+06  4.381883e+06  4.381883e+06\n",
       "mean     3.467543e+00  1.129824e-04  1.484703e-02 -1.531470e-02  1.773332e-04\n",
       "std      9.839195e-01  1.401605e-02  2.168032e-02  2.302438e-02  2.629342e-02\n",
       "min     -3.912023e+00 -4.829644e-01 -4.327939e-01 -4.995624e-01 -4.867261e-01\n",
       "0.1%     9.531018e-02 -1.129393e-01 -7.089721e-02 -2.171754e-01 -1.732420e-01\n",
       "1%       1.071584e+00 -4.015526e-02 -1.898795e-02 -1.016918e-01 -7.626433e-02\n",
       "25%      2.888704e+00 -3.805386e-03  3.733247e-03 -2.104773e-02 -9.978700e-03\n",
       "50%      3.489513e+00  0.000000e+00  1.027246e-02 -1.016560e-02  2.618829e-04\n",
       "75%      4.049173e+00  4.390786e-03  2.038105e-02 -3.316753e-03  1.072309e-02\n",
       "99%      5.858824e+00  3.846628e-02  9.619240e-02  1.830969e-02  7.492761e-02\n",
       "99.9%    8.202482e+00  9.831371e-02  1.952400e-01  6.334315e-02  1.608683e-01\n",
       "max      1.275121e+01  4.894546e-01  4.985555e-01  4.795731e-01  4.818492e-01"
      ]
     },
     "execution_count": null,
     "metadata": {},
     "output_type": "execute_result"
    }
   ],
   "source": [
    "#statistics on the mature stocks\n",
    "stats = df_prices.loc[validStocks,[PREV_CLOSE,OPEN,HIGH,LOW,CLOSE]].describe(percentiles=[0.001, 0.01, 0.25, 0.75, 0.99, 0.999])        \n",
    "stats"
   ]
  },
  {
   "cell_type": "code",
   "execution_count": null,
   "id": "cbfd52d3",
   "metadata": {},
   "outputs": [
    {
     "name": "stdout",
     "output_type": "stream",
     "text": [
      "percentage =>0: 52.54537832251569\n",
      "percentage ==0: 2.2496264733677283\n",
      "percentage  <0: 47.45462167748432\n",
      "mean=0 percentage =>0: 50.174274392994974\n",
      "mean=0 percentage ==0: 0.0\n",
      "mean=0 percentage  <0: 49.825725607005026\n",
      "CPU times: user 367 ms, sys: 122 ms, total: 488 ms\n",
      "Wall time: 487 ms\n"
     ]
    }
   ],
   "source": [
    "%%time\n",
    "df_valid =df_prices.loc[validStocks]\n",
    "print( f\"percentage =>0: {df_valid[CLOSE].ge(0).sum()/len(df_valid)*100}\")\n",
    "print( f\"percentage ==0: {df_valid[CLOSE].eq(0).sum()/len(df_valid)*100}\")\n",
    "print( f\"percentage  <0: {df_valid[CLOSE].lt(0).sum()/len(df_valid)*100}\")\n",
    "\n",
    "print( f\"mean=0 percentage =>0: {(df_valid[CLOSE]-stats.loc['mean',CLOSE]).ge(0).sum()/len(df_valid)*100}\")\n",
    "print( f\"mean=0 percentage ==0: {(df_valid[CLOSE]-stats.loc['mean',CLOSE]).eq(0).sum()/len(df_valid)*100}\")\n",
    "print( f\"mean=0 percentage  <0: {(df_valid[CLOSE]-stats.loc['mean',CLOSE]).lt(0).sum()/len(df_valid)*100}\")\n",
    "del df_valid"
   ]
  },
  {
   "cell_type": "code",
   "execution_count": null,
   "id": "132e9ba7",
   "metadata": {},
   "outputs": [
    {
     "name": "stdout",
     "output_type": "stream",
     "text": [
      "CPU times: user 3.45 s, sys: 993 ms, total: 4.44 s\n",
      "Wall time: 4.46 s\n"
     ]
    }
   ],
   "source": [
    "%%time \n",
    "from lib.learner.learner import*\n",
    "from lib.learner.optimizers import*\n",
    "from lib.model.model import*\n",
    "from lib.model.modelmanager import*\n",
    "import torch.nn as nn\n",
    "\n",
    "#mean is so close to zero so we only devide by std\n",
    "stats = df_prices.loc[validStocks].describe(percentiles=[0.001, 0.01, 0.25, 0.75, 0.99, 0.999])\n",
    "df_prices, normalized_columns = normalizeData(df_prices,stats)\n",
    "\n",
    "#truncate extrems\n",
    "stats = df_prices.loc[validStocks,normalized_columns].describe(percentiles=[0.001, 0.01, 0.25, 0.75, 0.99, 0.999])\n",
    "df_prices = truncateExtremes(df_prices,normalized_columns, stats, \"1%\", \"99%\")"
   ]
  },
  {
   "cell_type": "raw",
   "id": "91683a88",
   "metadata": {},
   "source": [
    "#import scipy.special\n",
    "from bokeh.layouts import gridplot\n",
    "from bokeh.plotting import figure, show\n",
    "from lib.finance.graphs import *\n",
    "\n",
    "data_column = training_columns[0]\n",
    "stocks      = ohlc_ds.stocks\n",
    "df_select   = df_prices.loc[stocks,data_column]\n",
    "stats       = df_select.describe(percentiles=[0.0002, 0.01, 0.25, 0.75, 0.99, 0.9998])\n",
    "measured    = df_select.values\n",
    "x           = np.linspace(df_select.values.min(),df_select.values.max(), 1000)\n",
    "hist, edges = np.histogram(measured, density=True, bins=1000)\n",
    "\n",
    "#print(f\"percentage values at zero: {sum(measured==0.0)/len(measured)*100}\")\n",
    "p1 = make_plot(\"Histogram for \"+data_column, hist, edges, x)\n",
    "show(gridplot([p1], ncols=1, plot_width=1000, plot_height=400))\n"
   ]
  },
  {
   "cell_type": "code",
   "execution_count": null,
   "id": "92b32c64",
   "metadata": {},
   "outputs": [
    {
     "name": "stdout",
     "output_type": "stream",
     "text": [
      "TrainingParams(seq_length=90, n_predict_columns=1, training_columns=['Close_normalized', 'Open_normalized'], L0_in_dim=180, L0_out_dim=256, L0_n_out_dim=9, n_res=1, res_in_dim=64, res_n_width=1, fadeout_n_dim=2, dropout_ratio=(0.5,), mixing=0.0)\n"
     ]
    }
   ],
   "source": [
    "from dataclasses import dataclass, field\n",
    "\"\"\"\n",
    "@dataclass\n",
    "class ValueRange:\n",
    "    default:int=0\n",
    "    range_:range = range(0, 2, 1)\n",
    "    def __call__( self, source ): return source\n",
    "\"\"\"        \n",
    "@dataclass\n",
    "class TrainingParams:\n",
    "    seq_length:int = 90\n",
    "    n_predict_columns:int = 1\n",
    "    training_columns: list = field(default_factory=list)\n",
    "        \n",
    "    L0_in_dim:int=0\n",
    "    L0_out_dim:int = 4*64  \n",
    "    L0_n_out_dim:int=9\n",
    "        \n",
    "    n_res:int = 1\n",
    "    res_in_dim:int = 64\n",
    "    res_n_width:int=1 \n",
    "    \n",
    "    fadeout_n_dim:int = 2\n",
    "    \n",
    "    dropout_ratio:float=0.5,\n",
    "    mixing:float=0.0\n",
    "tp = TrainingParams()\n",
    "tp.training_columns = [CLOSE_NORM,OPEN_NORM]\n",
    "tp.L0_in_dim = tp.seq_length*len(tp.training_columns)\n",
    "#tp.embedding_width=tp.len_of_samples\n",
    "print(f\"{tp}\")\n"
   ]
  },
  {
   "cell_type": "code",
   "execution_count": null,
   "id": "95eb1506",
   "metadata": {},
   "outputs": [
    {
     "name": "stdout",
     "output_type": "stream",
     "text": [
      "number of ValidStocks, train, test inValid: (1626, 1626, 1626, 992)\n",
      "number of samples: len(ohlc_ds),len(train_ds),len(test_ds): (0, 3176189, 1059354)\n",
      "CPU times: user 6.17 s, sys: 1.34 s, total: 7.51 s\n",
      "Wall time: 7.52 s\n"
     ]
    }
   ],
   "source": [
    "%%time\n",
    "\n",
    "train_test_default = \"default\"\n",
    "data = Data(df_prices)\n",
    "data.changeTraining(tp.seq_length,tp.training_columns,tp.n_predict_columns, train_test_default)\n",
    "\n",
    "ohlc_ds = OHLCDataset(data, validStocks, train_test_default)\n",
    "\n",
    "\n",
    "#train_ds, test_ds = ohlc_ds.split2train_test(\"stock\",0.25)\n",
    "train_ds, test_ds = ohlc_ds.split2train_test(\"time\",0.25)\n",
    "train_ds.changeAugmentation(tp.mixing)\n",
    "\n",
    "databunch = DataBunch(train_ds.dataloader(batch_size=2048, shuffle=True,  drop_last=True), \\\n",
    "                      test_ds.dataloader( batch_size=4096, shuffle=False, drop_last=False), \\\n",
    "                      c_in=len(ohlc_ds.data.columns), c_out=len(ohlc_ds.data.columns))\n",
    "\n",
    "print(f\"number of ValidStocks, train, test inValid: {len(ohlc_ds.stocks), len(train_ds.stocks), len(test_ds.stocks), len(inValidStocks)}\")\n",
    "print(f\"number of samples: len(ohlc_ds),len(train_ds),len(test_ds): {len(ohlc_ds),len(train_ds),len(test_ds)}\")\n",
    "\n",
    "#print(\"the following lengths must be the same\")\n",
    "#%time stock_days = [len(ohlc_ds.stock_grps.get_group(stock)) for stock in ohlc_ds.stocks]\n",
    "#print(len(ohlc_ds), sum(stock_days)-len(stock_days)*(seq_length+1))"
   ]
  },
  {
   "cell_type": "raw",
   "id": "f9d3a407",
   "metadata": {},
   "source": [
    "%time l = [len(b[0]) for b in databunch.train_dl]\n",
    "del l"
   ]
  },
  {
   "cell_type": "markdown",
   "id": "4951849b",
   "metadata": {},
   "source": [
    "batch = next(iter(databunch.train_dl))\n",
    "batch[0].shape,batch[1].shape"
   ]
  },
  {
   "cell_type": "markdown",
   "id": "2af07522",
   "metadata": {},
   "source": [
    "# We start by a regressionmodel that predict the next OHLC\n",
    " - First try will be the to minimize the squared sum of errors."
   ]
  },
  {
   "cell_type": "code",
   "execution_count": null,
   "id": "88c32866",
   "metadata": {},
   "outputs": [],
   "source": [
    "def my_mse_loss(estimate, target): \n",
    "    return (estimate-target).square().mean()\n",
    "def accuracy_sign(estimate, target): \n",
    "    return torch.sgn(estimate).eq(torch.sgn(target)).float().mean().numpy()\n",
    "    #return (torch.sgn(estimate[:,0]).eq(torch.sgn(target[:,0]))).float().mean()\n",
    "\n",
    "input_view = view_tfm(1,tp.L0_in_dim)\n",
    "\n",
    "sched        = combine_scheds([0.3, 0.7], [sched_cos(0.3, 0.6), sched_cos(0.6, 0.2)]) \n",
    "cbfs         = [TrainableModelCallback, TrainEvalCallback, OptimizerCallback, \n",
    "                partial(BatchTransformXCallback, tfm = input_view), \n",
    "                Recorder, \n",
    "                partial(AvgStatsCallback,[accuracy_sign]),\n",
    "                ProgressCallback\n",
    "               ]"
   ]
  },
  {
   "cell_type": "code",
   "execution_count": null,
   "id": "a656a54f",
   "metadata": {},
   "outputs": [],
   "source": [
    "\n",
    "tp.activ_func=torch.nn.Tanh()  #activ_func=torch.nn.ReLU(inplace=True)\n",
    "model = DenseResNetModel( tp.L0_in_dim, tp.L0_out_dim, tp.L0_n_out_dim, \n",
    "                          tp.n_res, tp.res_in_dim, tp.res_n_width, \n",
    "                          tp.fadeout_n_dim,\n",
    "                          activ_func=torch.nn.Tanh(), dropout_ratio=0.0 )\n",
    "mm   = CnnModelManager( model )"
   ]
  },
  {
   "cell_type": "code",
   "execution_count": null,
   "id": "8bd72756",
   "metadata": {},
   "outputs": [
    {
     "name": "stdout",
     "output_type": "stream",
     "text": [
      "input shape:torch.Size([2048, 1, 180])\n",
      "<class '__main__.DenseResNetModel'> torch.Size([2048, 1])\n",
      "CPU times: user 1.42 s, sys: 114 ms, total: 1.54 s\n",
      "Wall time: 662 ms\n"
     ]
    }
   ],
   "source": [
    "%%time\n",
    "xb,_ = mm.getFirstbatch( databunch, normalization = input_view)\n",
    "print(f\"input shape:{xb.shape}\")\n",
    "mm.summary(xb, print_mod=False)"
   ]
  },
  {
   "cell_type": "code",
   "execution_count": null,
   "id": "8c5479f4",
   "metadata": {},
   "outputs": [
    {
     "name": "stdout",
     "output_type": "stream",
     "text": [
      "TrainingParams(seq_length=90, n_predict_columns=1, training_columns=['Close_normalized', 'Open_normalized'], L0_in_dim=180, L0_out_dim=256, L0_n_out_dim=9, n_res=1, res_in_dim=64, res_n_width=1, fadeout_n_dim=2, dropout_ratio=(0.5,), mixing=0.0)\n"
     ]
    },
    {
     "data": {
      "text/html": [
       "<table border=\"1\" class=\"dataframe\">\n",
       "  <thead>\n",
       "    <tr style=\"text-align: left;\">\n",
       "      <th>epoch</th>\n",
       "      <th>train_loss</th>\n",
       "      <th>train_accuracy_sign</th>\n",
       "      <th>valid_loss</th>\n",
       "      <th>valid_accuracy_sign</th>\n",
       "      <th>time</th>\n",
       "    </tr>\n",
       "  </thead>\n",
       "  <tbody>\n",
       "    <tr>\n",
       "      <td>0</td>\n",
       "      <td>0.612461</td>\n",
       "      <td>0.575936</td>\n",
       "      <td>0.710130</td>\n",
       "      <td>0.520664</td>\n",
       "      <td>05:58</td>\n",
       "    </tr>\n",
       "  </tbody>\n",
       "</table>"
      ],
      "text/plain": [
       "<IPython.core.display.HTML object>"
      ]
     },
     "metadata": {},
     "output_type": "display_data"
    },
    {
     "name": "stdout",
     "output_type": "stream",
     "text": [
      "CPU times: user 22min 25s, sys: 40 s, total: 23min 5s\n",
      "Wall time: 5min 58s\n"
     ]
    }
   ],
   "source": [
    "#opt       = SGD(sched,max_lr=0.1)\n",
    "#opt       = Adam(sched,max_lr=5e-3, moms=(0.85,0.95), max_wd = 0)#1e-5)#1e-6)\n",
    "opt       = Adam(sched,max_lr=0.75e-2, moms=(0.85,0.95), max_wd = 1e-6)\n",
    "loss_func = torch.nn.MSELoss() #torch.nn.SmoothL1Loss(), my_mse_loss #nn.L1Loss()\n",
    "print(tp)\n",
    "learn = Learner( mm.model, databunch, loss_func=loss_func)\n",
    "%time learn.fit(1, opt=opt, cb_funcs=cbfs)"
   ]
  },
  {
   "cell_type": "code",
   "execution_count": null,
   "id": "4987497e",
   "metadata": {},
   "outputs": [
    {
     "name": "stdout",
     "output_type": "stream",
     "text": [
      "train_stats:[0.6124610718042047, 0.5759356098790323]\n",
      "valid_stats:[0.7101301400885824, 0.5206644804916555]\n"
     ]
    }
   ],
   "source": [
    "avgStats = learn.find_subcription_by_cls(AvgStatsCallback)\n",
    "print(f\"train_stats:{avgStats.train_stats.avg_stats}\")\n",
    "print(f\"valid_stats:{avgStats.valid_stats.avg_stats}\")\n"
   ]
  },
  {
   "cell_type": "raw",
   "id": "2556347c",
   "metadata": {},
   "source": [
    "TrainingParams(seq_length=90, n_predict_columns=1, training_columns=['Close_normalized', 'Open_normalized'], L0_in_dim=180, L0_out_dim=256, L0_n_out_dim=9, n_res=1, res_in_dim=64, res_n_width=1, fadeout_n_dim=2, dropout_ratio=(0.5,), mixing=0.0)\n",
    "epoch\ttrain_loss\ttrain_accuracy_sign\tvalid_loss\tvalid_accuracy_sign\ttime\n",
    "0\t0.612461\t0.575936\t0.710130\t0.520664\t05:58\n",
    "TrainingParams(seq_length=90, n_predict_columns=1, training_columns=['Close_normalized', 'Open_normalized'], L0_in_dim=180, L0_out_dim=256, L0_n_out_dim=9, n_res=1, res_in_dim=64, res_n_width=1, fadeout_n_dim=2, dropout_ratio=(0.5,), mixing=0.3)\n",
    "epoch\ttrain_loss\ttrain_accuracy_sign\tvalid_loss\tvalid_accuracy_sign\ttime\n",
    "0\t0.474695\t0.576367\t0.709584\t0.522604\t07:20\n",
    "TrainingParams(seq_length=90, n_predict_columns=1, training_columns=['Close_normalized', 'Open_normalized'], L0_in_dim=180, L0_out_dim=256, L0_n_out_dim=9, n_res=1, res_in_dim=64, res_n_width=1, fadeout_n_dim=2, dropout_ratio=(0.5,), mixing=0.3)\n",
    "epoch\ttrain_loss\ttrain_accuracy_sign\tvalid_loss\tvalid_accuracy_sign\ttime\n",
    "0\t0.478620\t0.575472\t0.728329\t0.520357\t07:03\n",
    "1\t0.424602\t0.618691\t0.686344\t0.533314\t06:45\n",
    "2\t0.385943\t0.646382\t0.686525\t0.538261\t07:21\n",
    "TrainingParams(seq_length=90, n_predict_columns=1, training_columns=['Close_normalized', 'Open_normalized'], L0_in_dim=180, L0_out_dim=256, L0_n_out_dim=9, n_res=1, res_in_dim=64, res_n_width=1, fadeout_n_dim=2, dropout_ratio=(0.5,), mixing=0.3)\n",
    "epoch\ttrain_loss\ttrain_accuracy_sign\tvalid_loss\tvalid_accuracy_sign\ttime\n",
    "0\t0.475080\t0.581699\t0.706459\t0.519281\t06:51\n",
    "1\t0.422191\t0.622076\t0.701758\t0.519619\t06:45\n",
    "2\t0.406387\t0.634074\t0.696256\t0.533648\t06:59\n",
    "3\t0.394855\t0.642449\t0.690952\t0.532491\t06:35\n",
    "4\t0.383086\t0.649384\t0.693017\t0.538860\t06:53\n",
    "5\t0.369511\t0.656543\t0.694281\t0.539046\t06:38\n",
    "6\t0.356035\t0.663144\t0.697180\t0.543756\t06:32\n",
    "7\t0.344565\t0.667856\t0.708422\t0.546842\t06:39\n",
    "8\t0.332995\t0.672691\t0.711656\t0.548053\t07:10\n",
    "9\t0.322185\t0.677879\t0.711864\t0.547772\t06:42\n",
    "10\t0.312662\t0.681279\t0.723032\t0.549677\t06:34\n",
    "11\t0.304139\t0.684745\t0.738575\t0.547087\t06:47\n",
    "12\t0.297338\t0.687425\t0.739826\t0.548455\t06:46\n",
    "13\t0.291632\t0.689412\t0.739905\t0.550384\t06:25\n",
    "14\t0.287953\t0.690327\t0.736800\t0.550704\t06:58\n",
    "TrainingParams(seq_length=90, n_predict_columns=1, training_columns=['Close_normalized', 'Open_normalized'], L0_in_dim=180, L0_out_dim=256, L0_n_out_dim=9, n_res=1, res_in_dim=64, res_n_width=1, fadeout_n_dim=2, dropout_ratio=0.5)\n",
    "epoch\ttrain_loss\ttrain_accuracy_sign\tvalid_loss\tvalid_accuracy_sign\ttime\n",
    "27\t0.277859\t0.709388\t0.844742\t0.541669\t05:42\n",
    "28\t0.274431\t0.710195\t0.841738\t0.542499\t05:42\n",
    "29\t0.271749\t0.710670\t0.854258\t0.539915\t05:34\n",
    "epoch\ttrain_loss\ttrain_accuracy_sign\tvalid_loss\tvalid_accuracy_sign\ttime\n",
    "0\t0.609884\t0.580733\t0.703075\t0.525831\t05:52\n",
    "CPU times: user 22min 43s, sys: 33.2 s, total: 23min 16s\n",
    "Wall time: 5min 52s\n",
    "TrainingParams(seq_length=90, n_predict_columns=1, training_columns=['Close_normalized', 'Open_normalized'], L0_in_dim=180, L0_out_dim=256, L0_n_out_dim=9, n_res=1, res_in_dim=64, res_n_width=1, fadeout_n_dim=2, dropout_ratio=0.0)\n",
    "epoch\ttrain_loss\ttrain_accuracy_sign\tvalid_loss\tvalid_accuracy_sign\ttime\n",
    "0\t0.613212\t0.574533\t0.698976\t0.521627\t06:20\n",
    "TrainingParams(seq_length=90, n_predict_columns=1, training_columns=['Close_normalized', 'Open_normalized'], L0_in_dim=180, L0_out_dim=256, L0_n_out_dim=9, n_res=1, res_in_dim=64, res_n_width=1, fadeout_n_dim=2, dropout_ratio=0.0)\n",
    "epoch\ttrain_loss\ttrain_accuracy_sign\tvalid_loss\tvalid_accuracy_sign\ttime\n",
    "0\t0.611565\t0.574166\t0.703438\t0.525874\t05:56\n",
    "TrainingParams(seq_length=90, \n",
    "L0_in_dim=180, L0_out_dim=256, L0_n_out_dim=9, n_res=1, res_in_dim=64, res_n_width=1, dropout_ratio=0.0, n_predict_columns=1, training_columns=['Close_normalized', 'Open_normalized'])\n",
    "epoch\ttrain_loss\ttrain_accuracy_sign\tvalid_loss\tvalid_accuracy_sign\ttime\n",
    "0\t0.441801\t0.664492\t0.689787\t0.543861\t06:08"
   ]
  },
  {
   "cell_type": "raw",
   "id": "2d1e1d41",
   "metadata": {},
   "source": [
    "TrainingParams(seq_length=90, L0_in_dim=180, L0_out_dim=256, L0_n_out_dim=9, n_res=1, res_in_dim=64, res_n_width=1, dropout_ratio=0.0, n_predict_columns=1, training_columns=['Close_normalized', 'Open_normalized'])\n",
    "epoch\ttrain_loss\ttrain_accuracy_sign\tvalid_loss\tvalid_accuracy_sign\ttime\n",
    "0\t0.616127\t0.575364\t0.735835\t0.518585\t06:18\n",
    "1\t0.549197\t0.615559\t0.704224\t0.530130\t06:10\n",
    "2\t0.510307\t0.637930\t0.689449\t0.532630\t06:07\n",
    "3\t0.465751\t0.656854\t0.684751\t0.538670\t05:34\n",
    "4\t0.422258\t0.671438\t0.701405\t0.543135\t05:34"
   ]
  },
  {
   "cell_type": "raw",
   "id": "8843bb6d",
   "metadata": {},
   "source": [
    "TrainingParams(seq_length=90, len_of_samples=180, n_predict_columns=1, embedding_width=384, res_width=64, nb_reswidth_multiple=1, hidden_width=64, nb_stems=9, nb_res=1, nb_res_width_multiple=1, dropout_ratio=0.5, training_columns=['Close_normalized', 'Open_normalized'])\n",
    "epoch\ttrain_loss\ttrain_accuracy_sign\tvalid_loss\tvalid_accuracy_sign\ttime\n",
    "0\t0.642339\t0.553988\t0.717053\t0.517512\t09:58\n",
    "1\t0.587417\t0.587746\t0.702392\t0.515808\t09:31\n",
    "2\t0.557432\t0.605494\t0.694011\t0.520049\t09:40"
   ]
  },
  {
   "cell_type": "raw",
   "id": "bc7ff979",
   "metadata": {},
   "source": [
    "embedding_width = len_of_samples #6*64  \n",
    "print(f\"len_of_samples:{len_of_samples}\")\n",
    "res_width = hidden_width  = 64\n",
    "nb_stems=9\n",
    "nb_res = 1\n",
    "dropout_ratio=0.5\n",
    "nb_reswidth_multiple = 1\n",
    "n_fadeout_width=3 \n",
    "epoch\ttrain_loss\ttrain_accuracy_sign\tvalid_loss\tvalid_accuracy_sign\ttime\n",
    "0\t0.618543\t0.574008\t0.740911\t0.495182\t10:38\n",
    "1\t0.552118\t0.614465\t0.704242\t0.535871\t10:40\n",
    "2\t0.516090\t0.635285\t0.683511\t0.537043\t10:50\n",
    "\n",
    "embedding_width = len_of_samples #6*64  \n",
    "print(f\"len_of_samples:{len_of_samples}\")\n",
    "res_width = hidden_width  = 64\n",
    "nb_stems=9\n",
    "nb_res = 1\n",
    "dropout_ratio=0.5\n",
    "nb_reswidth_multiple = 1\n",
    "n_fadeout_width=2 # much better 2 is currently the best\n",
    "epoch\ttrain_loss\ttrain_accuracy_sign\tvalid_loss\tvalid_accuracy_sign\ttime\n",
    "0\t0.515884\t0.634806\t0.692766\t0.525890\t09:29\n",
    "1\t0.517970\t0.635487\t0.685517\t0.537327\t09:46\n",
    "2\t0.492846\t0.646652\t0.676680\t0.542489\t10:17\n",
    "\n",
    "embedding_width = len_of_samples #6*64  \n",
    "print(f\"len_of_samples:{len_of_samples}\")\n",
    "res_width = hidden_width  = 64\n",
    "nb_stems=9\n",
    "nb_res = 1\n",
    "dropout_ratio=0.5\n",
    "nb_reswidth_multiple = 1\n",
    "epoch\ttrain_loss\ttrain_accuracy_sign\tvalid_loss\tvalid_accuracy_sign\ttime\n",
    "0\t0.620571\t0.574340\t0.745031\t0.517469\t10:30\n",
    "1\t0.558038\t0.610080\t0.712628\t0.520088\t10:24\n",
    "2\t0.521195\t0.631504\t0.690654\t0.527509\t09:50\n",
    "\n",
    "embedding_width = len_of_samples #6*64  \n",
    "print(f\"len_of_samples:{len_of_samples}\")\n",
    "res_width = hidden_width  = 64\n",
    "nb_stems=9\n",
    "nb_res = 1\n",
    "dropout_ratio=0.5\n",
    "nb_reswidth_multiple = 1\n",
    "activ_func=torch.nn.Tanh()  \n",
    "fixed  resblock to x+x_out\n",
    "3x at fanout\n",
    "epoch\ttrain_loss\ttrain_accuracy_sign\tvalid_loss\tvalid_accuracy_sign\ttime\n",
    "0\t0.619638\t0.574388\t0.736806\t0.521986\t10:20\n",
    "1\t0.555727\t0.610724\t0.707872\t0.529577\t10:20\n",
    "2\t0.518936\t0.632389\t0.694212\t0.522990\t10:34\n",
    "nb_stems=9, nb_res=1\n",
    "epoch\ttrain_loss\ttrain_accuracy_sign\tvalid_loss\tvalid_accuracy_sign\ttime\n",
    "0\t0.614193\t0.580989\t0.737300\t0.507302\t09:50\n",
    "1\t0.548950\t0.618725\t0.704985\t0.524434\t09:52\n",
    "2\t0.514427\t0.637750\t0.690193\t0.540928\t09:25\n",
    "\n",
    "embedding_width = len_of_samples #6*64  \n",
    "print(f\"len_of_samples:{len_of_samples}\")\n",
    "res_width = hidden_width  = 64\n",
    "nb_stems=4\n",
    "nb_res = 2\n",
    "dropout_ratio=0.5\n",
    "nb_reswidth_multiple = 1\n",
    "activ_func=torch.nn.Tanh()  #ac\n",
    "epoch\ttrain_loss\ttrain_accuracy_sign\tvalid_loss\tvalid_accuracy_sign\ttime\n",
    "0\t0.638824\t0.560993\t0.731680\t0.513403\t06:09\n",
    "1\t0.574417\t0.596803\t0.710231\t0.524923\t06:22\n",
    "2\t0.542573\t0.617053\t0.698964\t0.524943\t06:20\n",
    "\n",
    "embedding_width = len_of_samples #6*64  \n",
    "print(f\"len_of_samples:{len_of_samples}\")\n",
    "res_width = hidden_width  = 64\n",
    "nb_stems=4\n",
    "nb_res = 2\n",
    "dropout_ratio=0.5\n",
    "nb_reswidth_multiple = 2\n",
    "epoch\ttrain_loss\ttrain_accuracy_sign\tvalid_loss\tvalid_accuracy_sign\ttime\n",
    "0\t0.636497\t0.562286\t0.731250\t0.517721\t06:39\n",
    "1\t0.568473\t0.601464\t0.709489\t0.515396\t06:32\n",
    "2\t0.539347\t0.618860\t0.703948\t0.529774\t06:22\n",
    "\n",
    "res_width = hidden_width  = 64\n",
    "nb_stems=4\n",
    "nb_res = 1\n",
    "dropout_ratio=0.5\n",
    "nb_reswidth_multiple = 2\n",
    "epoch\ttrain_loss\ttrain_accuracy_sign\tvalid_loss\tvalid_accuracy_sign\ttime\n",
    "0\t0.633100\t0.564581\t0.730750\t0.524994\t06:11\n",
    "1\t0.569923\t0.601203\t0.714924\t0.518644\t06:27\n",
    "2\t0.539895\t0.619240\t0.709498\t0.531848\t06:17\n",
    "\n",
    "nb_stems=4, nb_res=1 + fixe resnet to x + x_out\n",
    "epoch\ttrain_loss\ttrain_accuracy_sign\tvalid_loss\tvalid_accuracy_sign\ttime\n",
    "0\t0.631457\t0.566734\t0.742510\t0.516803\t06:23\n",
    "1\t0.569340\t0.601349\t0.713777\t0.525233\t06:24\n",
    "2\t0.539170\t0.618820\t0.703893\t0.530392\t06:26\n",
    "\n",
    "nb_stem=4, nb_res=4\n",
    "self.fadeout = nn.Sequential(nn.Linear(res_in_dim,res_in_dim*3),\n",
    "epoch\ttrain_loss\ttrain_accuracy_sign\tvalid_loss\tvalid_accuracy_sign\ttime\n",
    "0\t0.645348\t0.559725\t0.725291\t0.508396\t07:12\n",
    "1\t0.571746\t0.599974\t0.710664\t0.516574\t07:03\n",
    "2\t0.540997\t0.618688\t0.696884\t0.531010\t07:06\n",
    "nb_stem=4, nb_res=4\n",
    "epoch\ttrain_loss\ttrain_accuracy_sign\tvalid_loss\tvalid_accuracy_sign\ttime\n",
    "0\t0.641601\t0.565504\t0.735488\t0.497284\t06:33\n",
    "1\t0.571166\t0.600985\t0.726262\t0.515239\t06:22\n",
    "2\t0.541141\t0.619610\t0.710330\t0.518012\t06:12\n",
    "nb_stems=4, nb_res=1\n",
    "epoch\ttrain_loss\ttrain_accuracy_sign\tvalid_loss\tvalid_accuracy_sign\ttime\n",
    "0\t0.627896\t0.571142\t0.738431\t0.493967\t05:40\n",
    "1\t0.567066\t0.604780\t0.721304\t0.524650\t05:43\n",
    "2\t0.538110\t0.621641\t0.708618\t0.531726\t05:18\n"
   ]
  },
  {
   "cell_type": "raw",
   "id": "3ae587c0",
   "metadata": {},
   "source": [
    "epoch\ttrain_loss\ttrain_accuracy_sign\tvalid_loss\tvalid_accuracy_sign\ttime\n",
    "0\t0.556845\t0.611890\t0.732664\t0.522209\t20:31\n",
    "1\t0.493370\t0.648697\t0.726052\t0.544671\t20:08\n",
    "2\t0.474127\t0.659704\t0.700818\t0.555701\t20:18\n",
    "3\t0.461407\t0.665716\t0.701750\t0.557859\t20:21\n",
    "4\t0.448425\t0.671600\t0.673273\t0.566063\t20:18\n",
    "5\t0.432967\t0.677231\t0.660934\t0.568627\t20:07\n",
    "6\t0.417498\t0.682835\t0.655352\t0.577211\t20:15\n",
    "7\t0.402464\t0.687931\t0.646738\t0.583324\t20:16\n",
    "8\t0.387375\t0.693039\t0.645269\t0.587049\t20:06\n",
    "9\t0.371992\t0.697424\t0.641036\t0.587143\t20:11\n",
    "10\t0.356626\t0.701929\t0.634859\t0.579869\t20:11\n",
    "11\t0.341570\t0.707281\t0.638862\t0.589417\t20:06\n",
    "12\t0.328061\t0.711290\t0.635735\t0.591008\t20:10\n",
    "13\t0.316619\t0.715094\t0.635128\t0.590959\t20:21\n",
    "14\t0.307528\t0.718069\t0.624545\t0.592233\t20:11"
   ]
  },
  {
   "cell_type": "raw",
   "id": "bca3f698",
   "metadata": {},
   "source": [
    "x_resblocks = x_stem + self.resblocks(x_stem)\n",
    "\n",
    "training_columns  = [CLOSE_NORM,OPEN_NORM]\n",
    "test train by time\n",
    "droupout = 0.5 mixing=0.0\n",
    "epoch\ttrain_loss\ttrain_accuracy_sign\tvalid_loss\tvalid_accuracy_sign\ttime\n",
    "0\t0.557823\t0.610466\t0.719189\t0.535355\t21:57\n",
    "epoch\ttrain_loss\ttrain_accuracy_sign\tvalid_loss\tvalid_accuracy_sign\ttime\n",
    "0\t0.556168\t0.610809\t0.732604\t0.524552\t20:33\n",
    "\n",
    "test train by stock\n",
    "droupout = 0.5 mixing=0.0\n",
    "epoch\ttrain_loss\ttrain_accuracy_sign\tvalid_loss\tvalid_accuracy_sign\ttime\n",
    "0\t0.578712\t0.590661\t0.511843\t0.634828\t20:50"
   ]
  },
  {
   "cell_type": "raw",
   "id": "3fc653d8",
   "metadata": {},
   "source": [
    "nn.AvgPool1d(kernel_size=nb_stems) in stem instead of multiple stems\n",
    "\n",
    "training_columns  = [CLOSE_NORM,OPEN_NORM]\n",
    "test train by time\n",
    "droupout = 0.5 mixing=0.0\n",
    "epoch\ttrain_loss\ttrain_accuracy_sign\tvalid_loss\tvalid_accuracy_sign\ttime\n",
    "0\t0.582634\t0.590556\t0.716801\t0.541718\t21:29\n",
    "\n",
    "test train by stock\n",
    "droupout = 0.5 mixing=0.0\n",
    "epoch\ttrain_loss\ttrain_accuracy_sign\tvalid_loss\tvalid_accuracy_sign\ttime\n",
    "0\t0.610323\t0.563475\t0.519294\t0.632121\t21:06"
   ]
  },
  {
   "cell_type": "raw",
   "id": "fcec9222",
   "metadata": {},
   "source": [
    "training_columns  = [CLOSE_NORM,OPEN_NORM]\n",
    "test train by time\n",
    "droupout = 0.5 mixing=0.0\n",
    "epoch\ttrain_loss\ttrain_accuracy_sign\tvalid_loss\tvalid_accuracy_sign\ttime\n",
    "0\t0.590007\t0.583682\t0.721331\t0.526560\t21:18\n",
    "\n",
    "test train by stock\n",
    "droupout = 0.5 mixing=0.0\n",
    "epoch\ttrain_loss\ttrain_accuracy_sign\tvalid_loss\tvalid_accuracy_sign\ttime\n",
    "0\t0.596310\t0.568685\t0.560303\t0.614711\t21:24\n",
    "\n",
    "training_columns  = [CLOSE_NORM]\n",
    "\n",
    "test train by time\n",
    "droupout = 0.5 mixing=0.0\n",
    "epoch\ttrain_loss\ttrain_accuracy_sign\tvalid_loss\tvalid_accuracy_sign\ttime\n",
    "0\t0.628361\t0.551509\t0.745878\t0.508180\t09:07\n",
    "\n",
    "test train by stock\n",
    "droupout = 0.5 mixing=0.0\n",
    "epoch\ttrain_loss\ttrain_accuracy_sign\tvalid_loss\tvalid_accuracy_sign\ttime\n",
    "0\t0.654021\t0.535363\t0.576784\t0.570093\t09:30"
   ]
  },
  {
   "cell_type": "raw",
   "id": "3697afde",
   "metadata": {},
   "source": [
    "droupout = 0.0 mixing=0.5\n",
    "epoch\ttrain_loss\ttrain_accuracy_sign\tvalid_loss\tvalid_accuracy_sign\ttime\n",
    "0\t0.420512\t0.568748\t0.551479\t0.607528\t21:30\n",
    "1\t0.357883\t0.626251\t0.503546\t0.643629\t21:03\n",
    "2\t0.335192\t0.649806\t0.484341\t0.663395\t21:12\n",
    "3\t0.317148\t0.663139\t0.473665\t0.671311\t21:05\n",
    "4\t0.300802\t0.673290\t0.467421\t0.673903\t21:25\n",
    "epoch\ttrain_loss\ttrain_accuracy_sign\tvalid_loss\tvalid_accuracy_sign\ttime\n",
    "0\t0.401788\t0.588885\t0.550186\t0.608195\t17:56\n",
    "1\t0.351087\t0.631771\t0.507457\t0.642160\t17:15\n",
    "2\t0.318785\t0.664026\t0.485392\t0.661301\t18:04\n",
    "3\t0.285455\t0.686904\t0.474142\t0.673258\t17:58\n",
    "4\t0.250516\t0.706427\t0.478435\t0.674682\t17:24\n",
    "droupout = 0.0\n",
    "\n",
    "epoch\ttrain_loss\ttrain_accuracy_sign\tvalid_loss\tvalid_accuracy_sign\ttime\n",
    "0\t0.397377\t0.594749\t0.539622\t0.611859\t19:40\n",
    "1\t0.348762\t0.634350\t0.506150\t0.637282\t19:04\n",
    "2\t0.318498\t0.663435\t0.490976\t0.656637\t18:55\n",
    "3\t0.286194\t0.685880\t0.483460\t0.665688\t19:26\n",
    "4\t0.252933\t0.704612\t0.488591\t0.670636\t19:01\n",
    "droupout = 0.0\n",
    "epoch\ttrain_loss\ttrain_accuracy_sign\tvalid_loss\tvalid_accuracy_sign\ttime\n",
    "0\t0.397377\t0.594749\t0.539622\t0.611859\t19:40\n",
    "1\t0.348762\t0.634350\t0.506150\t0.637282\t19:04\n",
    "2\t0.318498\t0.663435\t0.490976\t0.656637\t18:55\n",
    "3\t0.286194\t0.685880\t0.483460\t0.665688\t19:26\n",
    "4\t0.252933\t0.704612\t0.488591\t0.670636\t19:01\n",
    "droupout = 0.4\n",
    "epoch\ttrain_loss\ttrain_accuracy_sign\tvalid_loss\tvalid_accuracy_sign\ttime\n",
    "0\t0.419248\t0.571663\t0.542658\t0.604469\t24:06\n",
    "1\t0.357698\t0.628156\t0.508012\t0.639983\t22:41\n",
    "2\t0.340869\t0.645802\t0.504129\t0.649437\t22:25\n",
    "3\t0.331781\t0.653183\t0.493494\t0.656774\t22:14\n",
    "4\t0.324147\t0.659195\t0.485922\t0.660200\t22:00\n",
    "5\t0.316421\t0.663845\t0.480633\t0.664967\t22:00\n",
    "6\t0.309002\t0.669049\t0.478772\t0.663510\t22:25\n",
    "7\t0.301575\t0.672752\t0.474799\t0.669593\t22:14\n",
    "8\t0.294555\t0.677209\t0.473444\t0.671376\t22:36\n",
    "9\t0.287724\t0.680148\t0.471478\t0.672366\t22:06\n",
    "10\t0.280781\t0.683759\t0.473680\t0.672994\t22:18\n",
    "11\t0.274323\t0.686697\t0.469721\t0.672942\t22:18\n",
    "12\t0.269333\t0.689645\t0.466367\t0.676429\t23:04\n",
    "13\t0.264480\t0.691892\t0.464543\t0.676735\t22:33\n",
    "14\t0.260682\t0.693789\t0.470028\t0.677524\t22:31"
   ]
  },
  {
   "cell_type": "code",
   "execution_count": null,
   "id": "a792fb0f",
   "metadata": {},
   "outputs": [
    {
     "data": {
      "image/png": "[encoded data removed]",
      "text/plain": [
       "<Figure size 432x288 with 1 Axes>"
      ]
     },
     "metadata": {
      "needs_background": "light"
     },
     "output_type": "display_data"
    },
    {
     "data": {
      "image/png": "[encoded data removed]",
      "text/plain": [
       "<Figure size 432x288 with 1 Axes>"
      ]
     },
     "metadata": {
      "needs_background": "light"
     },
     "output_type": "display_data"
    },
    {
     "data": {
      "text/plain": [
       "(None, None)"
      ]
     },
     "execution_count": null,
     "metadata": {},
     "output_type": "execute_result"
    }
   ],
   "source": [
    "import matplotlib.pyplot as plt\n",
    "\n",
    "learn.find_subcription_by_cls(Recorder).plot_lr(),plt.show()\n",
    "learn.find_subcription_by_cls(Recorder).plot_loss(skip_start=15),plt.show()"
   ]
  },
  {
   "cell_type": "code",
   "execution_count": null,
   "id": "fa94214a",
   "metadata": {},
   "outputs": [],
   "source": [
    "%%time\n",
    "\n",
    "stocks = test_ds.stocks[:] #\"AAPL\"\n",
    "price_targets, prediction_columns = predict_stocks(test_ds, mm, stocks, tensor_input_view )\n",
    "price_targets.head()"
   ]
  },
  {
   "cell_type": "code",
   "execution_count": null,
   "id": "d61c6345",
   "metadata": {},
   "outputs": [],
   "source": [
    "#statistics on the columns and their predicted values\n",
    "columns = test_ds.column_names.copy()\n",
    "columns.extend(prediction_columns)\n",
    "print(columns)\n",
    "price_targets.loc[:,columns].describe(percentiles=[0.0002, 0.25, 0.75, 0.9998])        \n"
   ]
  },
  {
   "cell_type": "raw",
   "id": "39b7ae3d",
   "metadata": {},
   "source": [
    "\tnormalized_Close\tpredict_normalized_Close\n",
    "count\t1.303303e+06\t1.303303e+06\n",
    "mean\t3.237851e-03\t3.665928e-03\n",
    "std\t    1.974514e-01\t7.889177e-02\n",
    "min\t   -9.992114e-01   -8.342363e-01\n",
    "0.02%  -9.750488e-01   -7.044529e-01\n",
    "25%\t   -8.545049e-02   -1.510273e-02\n",
    "50%\t    0.000000e+00\t2.520086e-03\n",
    "75%\t    9.036261e-02\t2.040304e-02\n",
    "99.98%\t9.912366e-01\t7.246236e-01\n",
    "max\t1.000000e+00\t8.689008e-01"
   ]
  },
  {
   "cell_type": "code",
   "execution_count": null,
   "id": "f08a6166",
   "metadata": {},
   "outputs": [],
   "source": [
    "#plot signal vs prediction\n",
    "#AAPL\n",
    "stock             = stocks[0]\n",
    "df                = price_targets.loc[stock].iloc[128:256] # extract a section\n",
    "training_column   = training_column_names[0]\n",
    "prediction_column = prediction_columns[0]\n",
    "\n",
    "reference_values  = df[training_column].to_numpy()\n",
    "prediction_values = df[prediction_column].to_numpy()\n",
    "dates             = np.arange(len(reference_values))\n",
    "same_sign         = np.sign(reference_values) == np.sign(prediction_values)\n",
    "\n",
    "reference_same_sign  = (reference_values[same_sign],  stock+\" reference\", \"blue\",  \"line\")\n",
    "prediction_same_sign = (prediction_values[same_sign], stock+\" prediction\",\"green\",\"circle\")\n",
    "#prediction_opposite_sign = (prediction_values[np.logical_not(same_sign)], stock+\" prediction\",\"red\",\"circle\")\n",
    "\n",
    "plotSignalVSPrediction(dates[same_sign],[reference_same_sign,prediction_same_sign])"
   ]
  },
  {
   "cell_type": "code",
   "execution_count": null,
   "id": "a8f5d2bc",
   "metadata": {},
   "outputs": [],
   "source": [
    "df[training_column_names].to_numpy()[:,0].shape"
   ]
  },
  {
   "cell_type": "code",
   "execution_count": null,
   "id": "ab4ac4a5",
   "metadata": {},
   "outputs": [],
   "source": [
    "price_targets.iloc[:10,-5:]"
   ]
  },
  {
   "cell_type": "code",
   "execution_count": null,
   "id": "963344b9",
   "metadata": {},
   "outputs": [],
   "source": [
    "from math import sqrt\n",
    "normalization_faktor=2.7e-02\n",
    "print(sqrt(0.000250), 0.01**2) #0.000295\n",
    "print(sqrt(0.758663)*normalization_faktor, 0.01**2)\n"
   ]
  },
  {
   "cell_type": "code",
   "execution_count": null,
   "id": "20aebd84",
   "metadata": {},
   "outputs": [],
   "source": [
    "#mm.model[0][0].weight\n",
    "#mm.model[0][0].bias"
   ]
  },
  {
   "cell_type": "raw",
   "id": "4e644662",
   "metadata": {},
   "source": [
    "#def my_mse_loss(t_in, t_target): return (t_in-t_target).square().mean()\n",
    "def accuracy_sign(out, yb): return (torch.sgn(out).eq(torch.sgn(yb))).float().mean()\n",
    "\n",
    "sched        = combine_scheds([0.3, 0.7], [sched_cos(0.3, 0.6), sched_cos(0.6, 0.2)]) \n",
    "cbfs         = [TrainableModelCallback, TrainEvalCallback, OptimizerCallback, \n",
    "#                partial(CudaCallback, device= torch.device('cuda',0)),\n",
    "#                partial(ParamScheduler, 'lr', sched),\n",
    "                partial(BatchTransformXCallback, tfm = tensor_input_view), \n",
    "#                partial(MixUp,α=0.4),\n",
    "#                LR_Finder,                \n",
    "                Recorder, \n",
    "#                partial(AvgStatsCallback,[accuracy]),\n",
    "#                partial(AvgStatsCallback,[my_mse_loss]),\n",
    "                partial(AvgStatsCallback,[torch.nn.functional.mse_loss,accuracy_sign]),\n",
    "#                partial(AvgStatsCallback,[torch.nn.functional.smooth_l1_loss]),\n",
    "                ProgressCallback\n",
    "               ]"
   ]
  },
  {
   "cell_type": "code",
   "execution_count": null,
   "id": "47c9d1c7",
   "metadata": {},
   "outputs": [],
   "source": [
    "#hide\n",
    "from nbdev.export import notebook2script\n",
    "notebook2script()"
   ]
  }
 ],
 "metadata": {
  "kernelspec": {
   "display_name": "Python 3",
   "language": "python",
   "name": "python3"
  }
 },
 "nbformat": 4,
 "nbformat_minor": 5
}
